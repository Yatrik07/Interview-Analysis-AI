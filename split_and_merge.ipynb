{
 "cells": [
  {
   "cell_type": "code",
   "execution_count": 2,
   "metadata": {},
   "outputs": [],
   "source": [
    "import cv2\n",
    "\n",
    "# Specify the input video file\n",
    "input_file = \"interview_demo.webm\"\n",
    "\n",
    "# Specify the time intervals to split the video (in seconds)\n",
    "# time_intervals = [(5, 95), (100, 125), (140, 196)]\n",
    "time_intervals = [(202, 219), (232,234), (246, 264),(275, 283), (289, 301), (309, 313), (317, 334), (346, 357), (374, 404), (411, 420), (426, 439), (447, 450), (460, 467), (495, 496), (575, 596),\n",
    "                    (770, 830), (850, 877)]   \n",
    "# time_intervals = [(0, 145), (505, 546)]\n",
    "# Open the video file\n",
    "cap = cv2.VideoCapture(input_file)\n",
    "\n",
    "# Get the video's fps\n",
    "fps = cap.get(cv2.CAP_PROP_FPS)\n",
    "height = int(cap.get(cv2.CAP_PROP_FRAME_HEIGHT))\n",
    "width = int(cap.get(cv2.CAP_PROP_FRAME_WIDTH))\n",
    "# print(fps, height, width)\n",
    "# Initialize a list to store the clips\n",
    "clips = []\n",
    "\n",
    "# Iterate through the time intervals\n",
    "for start_time, end_time in time_intervals:\n",
    "    # Calculate the starting and ending frame numbers\n",
    "    start_frame = int(start_time * fps)\n",
    "    end_frame = int(end_time * fps)\n",
    "\n",
    "    # Initialize a new video writer for the current clip\n",
    "    fourcc = cv2.VideoWriter_fourcc(*\"mp4v\")\n",
    "    clip_filename = f\"clip_{start_time}_{end_time}.mp4\"\n",
    "    out = cv2.VideoWriter(clip_filename, fourcc, fps, (width, height))\n",
    "\n",
    "    # Read frames from the video and write them to the current clip\n",
    "    cap.set(cv2.CAP_PROP_POS_FRAMES, start_frame)\n",
    "    while cap.get(cv2.CAP_PROP_POS_FRAMES) < end_frame:\n",
    "        ret, frame = cap.read()\n",
    "        out.write(frame)\n",
    "\n",
    "    # Close the current clip\n",
    "    out.release()\n",
    "\n",
    "    # Append the current clip to the list of clips\n",
    "    clips.append(clip_filename)\n",
    "\n",
    "# Release the input video\n",
    "cap.release()\n",
    "\n",
    "# Initialize a new video writer for the merged video\n",
    "merged_filename = \"merged_new.mp4\"\n",
    "merged_out = cv2.VideoWriter(merged_filename, fourcc, fps, (width, height))\n",
    "\n",
    "# Iterate through the clips and merge them\n",
    "for clip in clips:\n",
    "    cap = cv2.VideoCapture(clip)\n",
    "    while cap.isOpened():\n",
    "        ret, frame = cap.read()\n",
    "        if ret:\n",
    "            merged_out.write(frame)\n",
    "        else:\n",
    "            break\n",
    "    cap.release()\n",
    "\n",
    "# Close the merged video\n",
    "merged_out.release()\n"
   ]
  }
 ],
 "metadata": {
  "kernelspec": {
   "display_name": "base",
   "language": "python",
   "name": "python3"
  },
  "language_info": {
   "codemirror_mode": {
    "name": "ipython",
    "version": 3
   },
   "file_extension": ".py",
   "mimetype": "text/x-python",
   "name": "python",
   "nbconvert_exporter": "python",
   "pygments_lexer": "ipython3",
   "version": "3.9.12 (main, Apr  4 2022, 05:22:27) [MSC v.1916 64 bit (AMD64)]"
  },
  "orig_nbformat": 4,
  "vscode": {
   "interpreter": {
    "hash": "1d1abaef2af6fa1bf9d20dd6fce0dc0091a14e77079655c043f06592bd43d7ad"
   }
  }
 },
 "nbformat": 4,
 "nbformat_minor": 2
}
